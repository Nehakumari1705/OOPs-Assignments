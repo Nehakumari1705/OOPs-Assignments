{
 "cells": [
  {
   "cell_type": "markdown",
   "id": "95e21fa1",
   "metadata": {},
   "source": [
    "#### Q1. Explain Class and Object with respect to Object-Oriented Programming. Give a suitable example.\n"
   ]
  },
  {
   "cell_type": "markdown",
   "id": "93e88b1f",
   "metadata": {},
   "source": [
    "#### Ans- Class: A class is a blueprint for creating objects. A class defines the structure, behaviour, and properties of an object. Classes are used to define the abstract data types that are used in object-oriented programming.\n",
    "\n",
    "For example, class for a car can be defined as follows:\n",
    "\n"
   ]
  },
  {
   "cell_type": "code",
   "execution_count": 1,
   "id": "f887cdba",
   "metadata": {},
   "outputs": [],
   "source": [
    "class Car:\n",
    "    def __int__(self,model,colour,year):\n",
    "        self.model= model\n",
    "        self.colour= colour\n",
    "        self.year= year"
   ]
  },
  {
   "cell_type": "markdown",
   "id": "c93cbeb5",
   "metadata": {},
   "source": [
    "#### Object: An object is an instance of a class. Objects have a state and behaviour. For example, if a car class is defined, then an object of a car is a specific car, such as a Hyundai Elantra, with a specific color and year.\n",
    "\n",
    "For example, an object of the Car class can be:\n",
    "\n",
    "hyundai_elantra = Car(\"Hyundai Elantra\", \"black\", 2018)\n"
   ]
  },
  {
   "cell_type": "markdown",
   "id": "91288099",
   "metadata": {},
   "source": [
    "#### Q2. Name the four pillars of OOPs.\n"
   ]
  },
  {
   "cell_type": "markdown",
   "id": "f49e7786",
   "metadata": {},
   "source": [
    "#### Ans- For pillars of OOPs are:\n",
    "1. Encapsulation\n",
    "2. Polymorphism\n",
    "3. Inheritance\n",
    "4. Abstraction"
   ]
  },
  {
   "cell_type": "markdown",
   "id": "2723a65f",
   "metadata": {},
   "source": [
    "#### Q3. Explain why the _init_() function is used. Give a suitable example.\n"
   ]
  },
  {
   "cell_type": "markdown",
   "id": "ca14eda7",
   "metadata": {},
   "source": [
    "#### Ans - The _init_() function is a special method in Python classes. It is the first method called when an object of the class is created. It is used to initialize the attributes of the class, and can be used to set default values or any other tasks that must be performed to ensure the class is properly instantiated.\n",
    "\n",
    "For example, let's consider a class called Student:\n",
    "\n"
   ]
  },
  {
   "cell_type": "code",
   "execution_count": 22,
   "id": "f4e407ba",
   "metadata": {},
   "outputs": [],
   "source": [
    "\n",
    "class pwskills2:\n",
    "    \n",
    "    def __init__(sudh ,phone_number , email_id, student_id ):\n",
    "        \n",
    "        sudh.phone_number = phone_number\n",
    "        sudh.email_id = email_id\n",
    "        sudh.student_id = student_id\n",
    "        \n",
    "    \n",
    "    def return_student_detials(sudh):\n",
    "        return sudh.phone_number, sudh.email_id , sudh.student_id"
   ]
  },
  {
   "cell_type": "markdown",
   "id": "3223381c",
   "metadata": {},
   "source": [
    "#### This _init_() function is called when an object of the class Student is created. It is used to assign the values of the parameters phone_number,email_id, student_id to the corresponding attributes of the class.\n"
   ]
  },
  {
   "cell_type": "code",
   "execution_count": 23,
   "id": "7836cdca",
   "metadata": {},
   "outputs": [],
   "source": [
    "mohan = pwskills2(99699579567, \"mohan@gmail.com\" , 234)"
   ]
  },
  {
   "cell_type": "markdown",
   "id": "2a974436",
   "metadata": {},
   "source": [
    "#### Here, the _init_() function takes in the parameters ,phonand assigns them to the corresponding attributes of the student object.e_number , email_id, student_id and assigns them to the corresponding attributes of the student object."
   ]
  },
  {
   "cell_type": "markdown",
   "id": "207ffba6",
   "metadata": {},
   "source": [
    "#### Q4. Why self is used in OOPs?\n",
    "\n",
    "#### Ans- Self is used in OOPs to refer to the instance of the class. It helps to differentiate between the instance's attributes and properties from local variables. It allows programmers to access instance attributes and methods from within the class definition"
   ]
  },
  {
   "cell_type": "markdown",
   "id": "e445aac9",
   "metadata": {},
   "source": [
    "#### Q5. What is inheritance? Give an example for each type of inheritance."
   ]
  },
  {
   "cell_type": "markdown",
   "id": "3bcb894e",
   "metadata": {},
   "source": [
    "#### Ans- Inheritance is a way of sharing or inheriting features from one class to another. It allows a class to inherit methods, fields, and properties from a parent class.\n",
    "\n",
    "Examples of inheritance: \n",
    "1. Single Inheritance: A class inheriting from a single parent class. For example, a class 'Dog' inheriting from a parent class 'Animal'.\n",
    "2. Multiple Inheritance: A class inheriting from multiple parent classes. For example, a class 'Mammal' inheriting from parent classes 'Animal' and 'Vertebrate'.\n",
    "3. Multilevel Inheritance: A class inheriting from a class which has already inherited from another class. For example, a class 'Poodle' inheriting from a parent class 'Dog', which in turn has inherited from a parent class 'Animal'.\n",
    "4. Hybrid Inheritance: A class inheriting from more than one type of inheritance, such as single inheritance, multiple inheritance and multilevel inheritance. For example, a class 'Cat' inheriting from parent classes 'Animal', 'Feline', and 'Mammal'."
   ]
  },
  {
   "cell_type": "code",
   "execution_count": null,
   "id": "dfccca42",
   "metadata": {},
   "outputs": [],
   "source": []
  }
 ],
 "metadata": {
  "kernelspec": {
   "display_name": "Python 3 (ipykernel)",
   "language": "python",
   "name": "python3"
  },
  "language_info": {
   "codemirror_mode": {
    "name": "ipython",
    "version": 3
   },
   "file_extension": ".py",
   "mimetype": "text/x-python",
   "name": "python",
   "nbconvert_exporter": "python",
   "pygments_lexer": "ipython3",
   "version": "3.9.13"
  }
 },
 "nbformat": 4,
 "nbformat_minor": 5
}
